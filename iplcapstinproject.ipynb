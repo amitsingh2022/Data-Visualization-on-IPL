{
 "cells": [
  {
   "cell_type": "markdown",
   "id": "d6f05b92",
   "metadata": {},
   "source": [
    "## IPL 2022 Capstone Project"
   ]
  },
  {
   "cell_type": "markdown",
   "id": "1983d45c",
   "metadata": {},
   "source": [
    "#### The Indian Premier League (IPL) is a professional T20 cricket league in India, featuring franchises representing cities. This project explores IPL 2022 match-level data to derive meaningful insights and understand match outcomes, player performances, and team dynamics."
   ]
  },
  {
   "cell_type": "markdown",
   "id": "b315a16f",
   "metadata": {},
   "source": [
    "##### These are some of the important columns that we'll focus on for meaningful insights in this project.\n",
    "\n",
    "column names: Variable Type\n",
    "\n",
    "date : string\n",
    "venue : string\n",
    "stage : string\n",
    "team1 : string\n",
    "team2 : string\n",
    "toss_winner : string\n",
    "toss_decision : string\n",
    "first_ings_score : integer\n",
    "second_ings_score : integer\n",
    "match_winner : string\n",
    "won_by : string\n",
    "margin : integer\n",
    "player_of_the_match : string\n",
    "top_scorer : string\n",
    "highscore : integer\n",
    "best_bowling : string\n",
    "best_bowling_fgure : string\n",
    "gure : string"
   ]
  },
  {
   "cell_type": "markdown",
   "id": "5cf758e8",
   "metadata": {},
   "source": [
    "### Loading the libraries and Dataset"
   ]
  },
  {
   "cell_type": "code",
   "execution_count": 7,
   "id": "1f6f8511",
   "metadata": {},
   "outputs": [
    {
     "data": {
      "text/html": [
       "<div>\n",
       "<style scoped>\n",
       "    .dataframe tbody tr th:only-of-type {\n",
       "        vertical-align: middle;\n",
       "    }\n",
       "\n",
       "    .dataframe tbody tr th {\n",
       "        vertical-align: top;\n",
       "    }\n",
       "\n",
       "    .dataframe thead th {\n",
       "        text-align: right;\n",
       "    }\n",
       "</style>\n",
       "<table border=\"1\" class=\"dataframe\">\n",
       "  <thead>\n",
       "    <tr style=\"text-align: right;\">\n",
       "      <th></th>\n",
       "      <th>match_id</th>\n",
       "      <th>date</th>\n",
       "      <th>venue</th>\n",
       "      <th>team1</th>\n",
       "      <th>team2</th>\n",
       "      <th>stage</th>\n",
       "      <th>toss_winner</th>\n",
       "      <th>toss_decision</th>\n",
       "      <th>first_ings_score</th>\n",
       "      <th>first_ings_wkts</th>\n",
       "      <th>second_ings_score</th>\n",
       "      <th>second_ings_wkts</th>\n",
       "      <th>match_winner</th>\n",
       "      <th>won_by</th>\n",
       "      <th>margin</th>\n",
       "      <th>player_of_the_match</th>\n",
       "      <th>top_scorer</th>\n",
       "      <th>highscore</th>\n",
       "      <th>best_bowling</th>\n",
       "      <th>best_bowling_figure</th>\n",
       "    </tr>\n",
       "  </thead>\n",
       "  <tbody>\n",
       "    <tr>\n",
       "      <th>0</th>\n",
       "      <td>1</td>\n",
       "      <td>March 26,2022</td>\n",
       "      <td>Wankhede Stadium, Mumbai</td>\n",
       "      <td>Chennai</td>\n",
       "      <td>Kolkata</td>\n",
       "      <td>Group</td>\n",
       "      <td>Kolkata</td>\n",
       "      <td>Field</td>\n",
       "      <td>131</td>\n",
       "      <td>5</td>\n",
       "      <td>133</td>\n",
       "      <td>4</td>\n",
       "      <td>Kolkata</td>\n",
       "      <td>Wickets</td>\n",
       "      <td>6</td>\n",
       "      <td>Umesh Yadav</td>\n",
       "      <td>MS Dhoni</td>\n",
       "      <td>50</td>\n",
       "      <td>Dwayne Bravo</td>\n",
       "      <td>3--20</td>\n",
       "    </tr>\n",
       "    <tr>\n",
       "      <th>1</th>\n",
       "      <td>2</td>\n",
       "      <td>March 27,2022</td>\n",
       "      <td>Brabourne Stadium, Mumbai</td>\n",
       "      <td>Delhi</td>\n",
       "      <td>Mumbai</td>\n",
       "      <td>Group</td>\n",
       "      <td>Delhi</td>\n",
       "      <td>Field</td>\n",
       "      <td>177</td>\n",
       "      <td>5</td>\n",
       "      <td>179</td>\n",
       "      <td>6</td>\n",
       "      <td>Delhi</td>\n",
       "      <td>Wickets</td>\n",
       "      <td>4</td>\n",
       "      <td>Kuldeep Yadav</td>\n",
       "      <td>Ishan Kishan</td>\n",
       "      <td>81</td>\n",
       "      <td>Kuldeep Yadav</td>\n",
       "      <td>3--18</td>\n",
       "    </tr>\n",
       "    <tr>\n",
       "      <th>2</th>\n",
       "      <td>3</td>\n",
       "      <td>March 27,2022</td>\n",
       "      <td>Dr DY Patil Sports Academy, Mumbai</td>\n",
       "      <td>Banglore</td>\n",
       "      <td>Punjab</td>\n",
       "      <td>Group</td>\n",
       "      <td>Punjab</td>\n",
       "      <td>Field</td>\n",
       "      <td>205</td>\n",
       "      <td>2</td>\n",
       "      <td>208</td>\n",
       "      <td>5</td>\n",
       "      <td>Punjab</td>\n",
       "      <td>Wickets</td>\n",
       "      <td>5</td>\n",
       "      <td>Odean Smith</td>\n",
       "      <td>Faf du Plessis</td>\n",
       "      <td>88</td>\n",
       "      <td>Mohammed Siraj</td>\n",
       "      <td>2--59</td>\n",
       "    </tr>\n",
       "    <tr>\n",
       "      <th>3</th>\n",
       "      <td>4</td>\n",
       "      <td>March 28,2022</td>\n",
       "      <td>Wankhede Stadium, Mumbai</td>\n",
       "      <td>Gujarat</td>\n",
       "      <td>Lucknow</td>\n",
       "      <td>Group</td>\n",
       "      <td>Gujarat</td>\n",
       "      <td>Field</td>\n",
       "      <td>158</td>\n",
       "      <td>6</td>\n",
       "      <td>161</td>\n",
       "      <td>5</td>\n",
       "      <td>Gujarat</td>\n",
       "      <td>Wickets</td>\n",
       "      <td>5</td>\n",
       "      <td>Mohammed Shami</td>\n",
       "      <td>Deepak Hooda</td>\n",
       "      <td>55</td>\n",
       "      <td>Mohammed Shami</td>\n",
       "      <td>3--25</td>\n",
       "    </tr>\n",
       "    <tr>\n",
       "      <th>4</th>\n",
       "      <td>5</td>\n",
       "      <td>March 29,2022</td>\n",
       "      <td>Maharashtra Cricket Association Stadium,Pune</td>\n",
       "      <td>Hyderabad</td>\n",
       "      <td>Rajasthan</td>\n",
       "      <td>Group</td>\n",
       "      <td>Hyderabad</td>\n",
       "      <td>Field</td>\n",
       "      <td>210</td>\n",
       "      <td>6</td>\n",
       "      <td>149</td>\n",
       "      <td>7</td>\n",
       "      <td>Rajasthan</td>\n",
       "      <td>Runs</td>\n",
       "      <td>61</td>\n",
       "      <td>Sanju Samson</td>\n",
       "      <td>Aiden Markram</td>\n",
       "      <td>57</td>\n",
       "      <td>Yuzvendra Chahal</td>\n",
       "      <td>3--22</td>\n",
       "    </tr>\n",
       "  </tbody>\n",
       "</table>\n",
       "</div>"
      ],
      "text/plain": [
       "   match_id           date                                         venue  \\\n",
       "0         1  March 26,2022                      Wankhede Stadium, Mumbai   \n",
       "1         2  March 27,2022                     Brabourne Stadium, Mumbai   \n",
       "2         3  March 27,2022            Dr DY Patil Sports Academy, Mumbai   \n",
       "3         4  March 28,2022                      Wankhede Stadium, Mumbai   \n",
       "4         5  March 29,2022  Maharashtra Cricket Association Stadium,Pune   \n",
       "\n",
       "       team1      team2  stage toss_winner toss_decision  first_ings_score  \\\n",
       "0    Chennai    Kolkata  Group     Kolkata         Field               131   \n",
       "1      Delhi     Mumbai  Group       Delhi         Field               177   \n",
       "2   Banglore     Punjab  Group      Punjab         Field               205   \n",
       "3    Gujarat    Lucknow  Group     Gujarat         Field               158   \n",
       "4  Hyderabad  Rajasthan  Group   Hyderabad         Field               210   \n",
       "\n",
       "   first_ings_wkts  second_ings_score  second_ings_wkts match_winner   won_by  \\\n",
       "0                5                133                 4      Kolkata  Wickets   \n",
       "1                5                179                 6        Delhi  Wickets   \n",
       "2                2                208                 5       Punjab  Wickets   \n",
       "3                6                161                 5      Gujarat  Wickets   \n",
       "4                6                149                 7    Rajasthan     Runs   \n",
       "\n",
       "   margin player_of_the_match      top_scorer  highscore      best_bowling  \\\n",
       "0       6         Umesh Yadav        MS Dhoni         50      Dwayne Bravo   \n",
       "1       4       Kuldeep Yadav    Ishan Kishan         81     Kuldeep Yadav   \n",
       "2       5         Odean Smith  Faf du Plessis         88    Mohammed Siraj   \n",
       "3       5      Mohammed Shami    Deepak Hooda         55    Mohammed Shami   \n",
       "4      61        Sanju Samson   Aiden Markram         57  Yuzvendra Chahal   \n",
       "\n",
       "  best_bowling_figure  \n",
       "0               3--20  \n",
       "1               3--18  \n",
       "2               2--59  \n",
       "3               3--25  \n",
       "4               3--22  "
      ]
     },
     "execution_count": 7,
     "metadata": {},
     "output_type": "execute_result"
    }
   ],
   "source": [
    "import numpy as np\n",
    "import pandas as pd\n",
    "import matplotlib.pyplot as plt\n",
    "import seaborn as sns\n",
    "import warnings \n",
    "warnings.filterwarnings(\"ignore\")\n",
    "\n",
    "df = pd.read_csv('IPL.csv')\n",
    "df.head()"
   ]
  },
  {
   "cell_type": "markdown",
   "id": "104b22ae",
   "metadata": {},
   "source": [
    "### Basic Information"
   ]
  },
  {
   "cell_type": "code",
   "execution_count": 8,
   "id": "b1855957",
   "metadata": {},
   "outputs": [
    {
     "name": "stdout",
     "output_type": "stream",
     "text": [
      "<class 'pandas.core.frame.DataFrame'>\n",
      "RangeIndex: 74 entries, 0 to 73\n",
      "Data columns (total 20 columns):\n",
      " #   Column               Non-Null Count  Dtype \n",
      "---  ------               --------------  ----- \n",
      " 0   match_id             74 non-null     int64 \n",
      " 1   date                 74 non-null     object\n",
      " 2   venue                74 non-null     object\n",
      " 3   team1                74 non-null     object\n",
      " 4   team2                74 non-null     object\n",
      " 5   stage                74 non-null     object\n",
      " 6   toss_winner          74 non-null     object\n",
      " 7   toss_decision        74 non-null     object\n",
      " 8   first_ings_score     74 non-null     int64 \n",
      " 9   first_ings_wkts      74 non-null     int64 \n",
      " 10  second_ings_score    74 non-null     int64 \n",
      " 11  second_ings_wkts     74 non-null     int64 \n",
      " 12  match_winner         74 non-null     object\n",
      " 13  won_by               74 non-null     object\n",
      " 14  margin               74 non-null     int64 \n",
      " 15  player_of_the_match  74 non-null     object\n",
      " 16  top_scorer           74 non-null     object\n",
      " 17  highscore            74 non-null     int64 \n",
      " 18  best_bowling         74 non-null     object\n",
      " 19  best_bowling_figure  74 non-null     object\n",
      "dtypes: int64(7), object(13)\n",
      "memory usage: 11.7+ KB\n"
     ]
    }
   ],
   "source": [
    "df.info()"
   ]
  },
  {
   "cell_type": "code",
   "execution_count": 10,
   "id": "5eae7557",
   "metadata": {},
   "outputs": [
    {
     "data": {
      "text/plain": [
       "(74, 20)"
      ]
     },
     "execution_count": 10,
     "metadata": {},
     "output_type": "execute_result"
    }
   ],
   "source": [
    "df.shape"
   ]
  },
  {
   "cell_type": "markdown",
   "id": "40b505db",
   "metadata": {},
   "source": [
    "Check the size of rows and columns in Dataset"
   ]
  },
  {
   "cell_type": "code",
   "execution_count": 11,
   "id": "11e96f79",
   "metadata": {},
   "outputs": [
    {
     "name": "stdout",
     "output_type": "stream",
     "text": [
      "Your rows are 74 and columns are 20\n"
     ]
    }
   ],
   "source": [
    "print(f\"Your rows are {df.shape[0]} and columns are {df.shape[1]}\")"
   ]
  },
  {
   "cell_type": "markdown",
   "id": "735ccccf",
   "metadata": {},
   "source": [
    "Now see how many columns has null values in total"
   ]
  },
  {
   "cell_type": "code",
   "execution_count": 13,
   "id": "0e3bbebe",
   "metadata": {},
   "outputs": [
    {
     "data": {
      "text/plain": [
       "match_id               0\n",
       "date                   0\n",
       "venue                  0\n",
       "team1                  0\n",
       "team2                  0\n",
       "stage                  0\n",
       "toss_winner            0\n",
       "toss_decision          0\n",
       "first_ings_score       0\n",
       "first_ings_wkts        0\n",
       "second_ings_score      0\n",
       "second_ings_wkts       0\n",
       "match_winner           0\n",
       "won_by                 0\n",
       "margin                 0\n",
       "player_of_the_match    0\n",
       "top_scorer             0\n",
       "highscore              0\n",
       "best_bowling           0\n",
       "best_bowling_figure    0\n",
       "dtype: int64"
      ]
     },
     "execution_count": 13,
     "metadata": {},
     "output_type": "execute_result"
    }
   ],
   "source": [
    "df.isnull().sum()"
   ]
  },
  {
   "cell_type": "markdown",
   "id": "aa1d204b",
   "metadata": {},
   "source": [
    "1. Which team won the most matches?"
   ]
  },
  {
   "cell_type": "code",
   "execution_count": 15,
   "id": "f3024b8d",
   "metadata": {},
   "outputs": [
    {
     "data": {
      "text/plain": [
       "match_winner\n",
       "Gujarat      12\n",
       "Rajasthan    10\n",
       "Banglore      9\n",
       "Lucknow       9\n",
       "Punjab        7\n",
       "Delhi         7\n",
       "Kolkata       6\n",
       "Hyderabad     6\n",
       "Chennai       4\n",
       "Mumbai        4\n",
       "Name: count, dtype: int64"
      ]
     },
     "execution_count": 15,
     "metadata": {},
     "output_type": "execute_result"
    }
   ],
   "source": [
    "df['match_winner'].value_counts()"
   ]
  },
  {
   "cell_type": "code",
   "execution_count": 20,
   "id": "b759d49e",
   "metadata": {},
   "outputs": [
    {
     "data": {
      "text/plain": [
       "Text(0, 0.5, 'Teams')"
      ]
     },
     "execution_count": 20,
     "metadata": {},
     "output_type": "execute_result"
    },
    {
     "data": {
      "image/png": "[encoded data removed]",
      "text/plain": [
       "<Figure size 640x480 with 1 Axes>"
      ]
     },
     "metadata": {},
     "output_type": "display_data"
    }
   ],
   "source": [
    "match_wins = df['match_winner'].value_counts()\n",
    "sns.barplot(y=match_wins.index, x=match_wins.values, palette='viridis')\n",
    "plt.title('Number of matches won by each team')\n",
    "plt.xlabel('Number of matches won')\n",
    "plt.ylabel('Teams')"
   ]
  },
  {
   "cell_type": "markdown",
   "id": "460d6d85",
   "metadata": {},
   "source": [
    "2. Toss desicion trend"
   ]
  },
  {
   "cell_type": "code",
   "execution_count": 23,
   "id": "29552e4e",
   "metadata": {},
   "outputs": [
    {
     "data": {
      "text/plain": [
       "Text(0.5, 1.0, 'Toss Decision Trend')"
      ]
     },
     "execution_count": 23,
     "metadata": {},
     "output_type": "execute_result"
    },
    {
     "data": {
      "image/png": "[encoded data removed]",
      "text/plain": [
       "<Figure size 640x480 with 1 Axes>"
      ]
     },
     "metadata": {},
     "output_type": "display_data"
    }
   ],
   "source": [
    "sns.countplot(y='toss_decision', data=df, palette='mako')\n",
    "plt.title('Toss Decision Trend')"
   ]
  },
  {
   "cell_type": "markdown",
   "id": "cf356ea9",
   "metadata": {},
   "source": [
    "3. Toss winner and match winner relation"
   ]
  },
  {
   "cell_type": "code",
   "execution_count": 27,
   "id": "d1854d33",
   "metadata": {},
   "outputs": [
    {
     "name": "stdout",
     "output_type": "stream",
     "text": [
      "Toss winning team also won the match 48.65% of the times.\n"
     ]
    }
   ],
   "source": [
    "count = df[df['toss_winner'] == df['match_winner']]['match_id'].count()\n",
    "percentage = (count / df['match_id'].nunique()) * 100\n",
    "print(f\"Toss winning team also won the match {percentage:.2f}% of the times.\")"
   ]
  },
  {
   "cell_type": "markdown",
   "id": "ea354610",
   "metadata": {},
   "source": [
    "4. How many teams wins? (Runs vs Wickets)"
   ]
  },
  {
   "cell_type": "code",
   "execution_count": 32,
   "id": "a511d82d",
   "metadata": {},
   "outputs": [
    {
     "data": {
      "text/plain": [
       "Text(0, 0.5, 'Number of matches')"
      ]
     },
     "execution_count": 32,
     "metadata": {},
     "output_type": "execute_result"
    },
    {
     "data": {
      "image/png": "[encoded data removed]",
      "text/plain": [
       "<Figure size 640x480 with 1 Axes>"
      ]
     },
     "metadata": {},
     "output_type": "display_data"
    }
   ],
   "source": [
    "sns.countplot(x=df['won_by'])\n",
    "plt.title('Match Winning Trend')\n",
    "plt.xlabel('Winning Margin')\n",
    "plt.ylabel('Number of matches')"
   ]
  },
  {
   "cell_type": "markdown",
   "id": "88bb2462",
   "metadata": {},
   "source": [
    "### Key Player Performances"
   ]
  },
  {
   "cell_type": "markdown",
   "id": "59fa3798",
   "metadata": {},
   "source": [
    "1. Most Player of the Match award?"
   ]
  },
  {
   "cell_type": "code",
   "execution_count": 36,
   "id": "78a35601",
   "metadata": {},
   "outputs": [
    {
     "data": {
      "text/plain": [
       "player_of_the_match\n",
       "Kuldeep Yadav        4\n",
       "Jos Buttler          3\n",
       "Wanindu Hasaranga    2\n",
       "Umesh Yadav          2\n",
       "Quinton de Kock      2\n",
       "Shubman Gill         2\n",
       "Avesh Khan           2\n",
       "Dinesh Karthik       2\n",
       "Hardik Pandya        2\n",
       "Rahul Tripathi       2\n",
       "Name: count, dtype: int64"
      ]
     },
     "execution_count": 36,
     "metadata": {},
     "output_type": "execute_result"
    }
   ],
   "source": [
    "count = df['player_of_the_match'].value_counts().head(10)\n",
    "count"
   ]
  },
  {
   "cell_type": "code",
   "execution_count": 38,
   "id": "8ab9e892",
   "metadata": {},
   "outputs": [
    {
     "data": {
      "text/plain": [
       "Text(0.5, 1.0, 'Top 10 Players with Most Player of the Match Awards')"
      ]
     },
     "execution_count": 38,
     "metadata": {},
     "output_type": "execute_result"
    },
    {
     "data": {
      "image/png": "[encoded data removed]",
      "text/plain": [
       "<Figure size 640x480 with 1 Axes>"
      ]
     },
     "metadata": {},
     "output_type": "display_data"
    }
   ],
   "source": [
    "sns.barplot(y=count.index, x=count.values, palette='mako')\n",
    "plt.title('Top 10 Players with Most Player of the Match Awards')"
   ]
  },
  {
   "cell_type": "code",
   "execution_count": 45,
   "id": "f4df33f4",
   "metadata": {},
   "outputs": [
    {
     "data": {
      "text/plain": [
       "top_scorer\n",
       "Jos Buttler        651\n",
       "Quinton de Kock    377\n",
       "Name: highscore, dtype: int64"
      ]
     },
     "execution_count": 45,
     "metadata": {},
     "output_type": "execute_result"
    }
   ],
   "source": [
    "high = df.groupby('top_scorer')['highscore'].sum().sort_values(ascending=False).head(2)\n",
    "high"
   ]
  },
  {
   "cell_type": "markdown",
   "id": "b4a4a425",
   "metadata": {},
   "source": [
    "2. Top 2 highest run scorer?"
   ]
  },
  {
   "cell_type": "code",
   "execution_count": 47,
   "id": "3476d089",
   "metadata": {},
   "outputs": [
    {
     "data": {
      "text/plain": [
       "Text(0.5, 1.0, 'Top 2 Highest Run Scorers in IPL 2022')"
      ]
     },
     "execution_count": 47,
     "metadata": {},
     "output_type": "execute_result"
    },
    {
     "data": {
      "image/png": "[encoded data removed]",
      "text/plain": [
       "<Figure size 640x480 with 1 Axes>"
      ]
     },
     "metadata": {},
     "output_type": "display_data"
    }
   ],
   "source": [
    "high.plot(kind='bar', color=['blue', 'orange'])\n",
    "plt.title('Top 2 Highest Run Scorers in IPL 2022')"
   ]
  },
  {
   "cell_type": "markdown",
   "id": "cde4f95d",
   "metadata": {},
   "source": [
    "3. Best Bowling Figure?"
   ]
  },
  {
   "cell_type": "code",
   "execution_count": 63,
   "id": "3d42fa16",
   "metadata": {},
   "outputs": [
    {
     "data": {
      "text/plain": [
       "<Axes: ylabel='best_bowling'>"
      ]
     },
     "execution_count": 63,
     "metadata": {},
     "output_type": "execute_result"
    },
    {
     "data": {
      "image/png": "[encoded data removed]",
      "text/plain": [
       "<Figure size 640x480 with 1 Axes>"
      ]
     },
     "metadata": {},
     "output_type": "display_data"
    }
   ],
   "source": [
    "df['highest_wickets'] = df['best_bowling_figure'].apply(lambda x :x.split('--')[0])\n",
    "df['highest_wickets'] = df['highest_wickets'].astype(int)\n",
    "top_bowler = df.groupby('best_bowling')['highest_wickets'].sum().sort_values(ascending=False).head(10)\n",
    "top_bowler \n",
    "top_bowler.plot(kind='barh', color='green')"
   ]
  },
  {
   "cell_type": "markdown",
   "id": "0ee75a5a",
   "metadata": {},
   "source": [
    "### Venue Analysis"
   ]
  },
  {
   "cell_type": "markdown",
   "id": "f9e6ac6e",
   "metadata": {},
   "source": [
    "1. Most Match played by venue?"
   ]
  },
  {
   "cell_type": "code",
   "execution_count": 65,
   "id": "7b30aaf4",
   "metadata": {},
   "outputs": [
    {
     "data": {
      "text/plain": [
       "venue\n",
       "Wankhede Stadium, Mumbai                        21\n",
       "Dr DY Patil Sports Academy, Mumbai              20\n",
       "Brabourne Stadium, Mumbai                       16\n",
       "Maharashtra Cricket Association Stadium,Pune    13\n",
       "Eden Gardens, Kolkata                            2\n",
       "Narendra Modi Stadium, Ahmedabad                 2\n",
       "Name: count, dtype: int64"
      ]
     },
     "execution_count": 65,
     "metadata": {},
     "output_type": "execute_result"
    }
   ],
   "source": [
    "venue_count = df['venue'].value_counts()\n",
    "venue_count"
   ]
  },
  {
   "cell_type": "code",
   "execution_count": 66,
   "id": "fcc9e936",
   "metadata": {},
   "outputs": [
    {
     "data": {
      "text/plain": [
       "Text(0.5, 1.0, 'Number of Matches Played at Each Venue')"
      ]
     },
     "execution_count": 66,
     "metadata": {},
     "output_type": "execute_result"
    },
    {
     "data": {
      "image/png": "[encoded data removed]",
      "text/plain": [
       "<Figure size 640x480 with 1 Axes>"
      ]
     },
     "metadata": {},
     "output_type": "display_data"
    }
   ],
   "source": [
    "sns.barplot(y=venue_count.index, x=venue_count.values, palette='mako')\n",
    "plt.title('Number of Matches Played at Each Venue')"
   ]
  },
  {
   "cell_type": "markdown",
   "id": "e27350ee",
   "metadata": {},
   "source": [
    "2. Most matches won by run?"
   ]
  },
  {
   "cell_type": "code",
   "execution_count": 73,
   "id": "4df7f2ee",
   "metadata": {},
   "outputs": [
    {
     "data": {
      "text/html": [
       "<div>\n",
       "<style scoped>\n",
       "    .dataframe tbody tr th:only-of-type {\n",
       "        vertical-align: middle;\n",
       "    }\n",
       "\n",
       "    .dataframe tbody tr th {\n",
       "        vertical-align: top;\n",
       "    }\n",
       "\n",
       "    .dataframe thead th {\n",
       "        text-align: right;\n",
       "    }\n",
       "</style>\n",
       "<table border=\"1\" class=\"dataframe\">\n",
       "  <thead>\n",
       "    <tr style=\"text-align: right;\">\n",
       "      <th></th>\n",
       "      <th>match_winner</th>\n",
       "      <th>margin</th>\n",
       "    </tr>\n",
       "  </thead>\n",
       "  <tbody>\n",
       "    <tr>\n",
       "      <th>54</th>\n",
       "      <td>Chennai</td>\n",
       "      <td>91</td>\n",
       "    </tr>\n",
       "  </tbody>\n",
       "</table>\n",
       "</div>"
      ],
      "text/plain": [
       "   match_winner  margin\n",
       "54      Chennai      91"
      ]
     },
     "execution_count": 73,
     "metadata": {},
     "output_type": "execute_result"
    }
   ],
   "source": [
    "df[df['won_by'] == 'Runs'].sort_values(by='margin', ascending=False).head(1)[['match_winner', 'margin']]"
   ]
  },
  {
   "cell_type": "markdown",
   "id": "aea10652",
   "metadata": {},
   "source": [
    "3. Highest Individual Score"
   ]
  },
  {
   "cell_type": "code",
   "execution_count": 77,
   "id": "6de5c420",
   "metadata": {},
   "outputs": [
    {
     "data": {
      "text/html": [
       "<div>\n",
       "<style scoped>\n",
       "    .dataframe tbody tr th:only-of-type {\n",
       "        vertical-align: middle;\n",
       "    }\n",
       "\n",
       "    .dataframe tbody tr th {\n",
       "        vertical-align: top;\n",
       "    }\n",
       "\n",
       "    .dataframe thead th {\n",
       "        text-align: right;\n",
       "    }\n",
       "</style>\n",
       "<table border=\"1\" class=\"dataframe\">\n",
       "  <thead>\n",
       "    <tr style=\"text-align: right;\">\n",
       "      <th></th>\n",
       "      <th>top_scorer</th>\n",
       "      <th>highscore</th>\n",
       "    </tr>\n",
       "  </thead>\n",
       "  <tbody>\n",
       "    <tr>\n",
       "      <th>65</th>\n",
       "      <td>Quinton de Kock</td>\n",
       "      <td>140</td>\n",
       "    </tr>\n",
       "  </tbody>\n",
       "</table>\n",
       "</div>"
      ],
      "text/plain": [
       "         top_scorer  highscore\n",
       "65  Quinton de Kock        140"
      ]
     },
     "execution_count": 77,
     "metadata": {},
     "output_type": "execute_result"
    }
   ],
   "source": [
    "df[df['highscore'] == df['highscore'].max()] [['top_scorer', 'highscore']]"
   ]
  },
  {
   "cell_type": "markdown",
   "id": "24e2685c",
   "metadata": {},
   "source": [
    "4. Best Bowling Figure"
   ]
  },
  {
   "cell_type": "code",
   "execution_count": 79,
   "id": "4d72476d",
   "metadata": {},
   "outputs": [
    {
     "data": {
      "text/html": [
       "<div>\n",
       "<style scoped>\n",
       "    .dataframe tbody tr th:only-of-type {\n",
       "        vertical-align: middle;\n",
       "    }\n",
       "\n",
       "    .dataframe tbody tr th {\n",
       "        vertical-align: top;\n",
       "    }\n",
       "\n",
       "    .dataframe thead th {\n",
       "        text-align: right;\n",
       "    }\n",
       "</style>\n",
       "<table border=\"1\" class=\"dataframe\">\n",
       "  <thead>\n",
       "    <tr style=\"text-align: right;\">\n",
       "      <th></th>\n",
       "      <th>best_bowling</th>\n",
       "      <th>best_bowling_figure</th>\n",
       "    </tr>\n",
       "  </thead>\n",
       "  <tbody>\n",
       "    <tr>\n",
       "      <th>29</th>\n",
       "      <td>Yuzvendra Chahal</td>\n",
       "      <td>5--40</td>\n",
       "    </tr>\n",
       "    <tr>\n",
       "      <th>39</th>\n",
       "      <td>Umran Malik</td>\n",
       "      <td>5--25</td>\n",
       "    </tr>\n",
       "    <tr>\n",
       "      <th>53</th>\n",
       "      <td>Wanindu Hasaranga</td>\n",
       "      <td>5--18</td>\n",
       "    </tr>\n",
       "    <tr>\n",
       "      <th>55</th>\n",
       "      <td>Jasprit Bumrah</td>\n",
       "      <td>5--10</td>\n",
       "    </tr>\n",
       "  </tbody>\n",
       "</table>\n",
       "</div>"
      ],
      "text/plain": [
       "         best_bowling best_bowling_figure\n",
       "29   Yuzvendra Chahal               5--40\n",
       "39        Umran Malik               5--25\n",
       "53  Wanindu Hasaranga               5--18\n",
       "55     Jasprit Bumrah               5--10"
      ]
     },
     "execution_count": 79,
     "metadata": {},
     "output_type": "execute_result"
    }
   ],
   "source": [
    "df[df['highest_wickets']== df['highest_wickets'].max()][['best_bowling', 'best_bowling_figure']]"
   ]
  },
  {
   "cell_type": "code",
   "execution_count": null,
   "id": "cffff2cd",
   "metadata": {},
   "outputs": [],
   "source": []
  }
 ],
 "metadata": {
  "kernelspec": {
   "display_name": ".venv (3.13.3)",
   "language": "python",
   "name": "python3"
  },
  "language_info": {
   "codemirror_mode": {
    "name": "ipython",
    "version": 3
   },
   "file_extension": ".py",
   "mimetype": "text/x-python",
   "name": "python",
   "nbconvert_exporter": "python",
   "pygments_lexer": "ipython3",
   "version": "3.13.3"
  }
 },
 "nbformat": 4,
 "nbformat_minor": 5
}
